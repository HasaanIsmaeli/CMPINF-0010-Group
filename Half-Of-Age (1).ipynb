{
 "cells": [
  {
   "cell_type": "markdown",
   "metadata": {},
   "source": [
    "This program is supposed to take a name input, take a age input, and multiply the age by 2 to get the value of twice your age. The output should print out something like \"{Name} your are half of {double your age}."
   ]
  },
  {
   "cell_type": "code",
   "execution_count": null,
   "metadata": {},
   "outputs": [],
   "source": [
    "while True:\n",
    "    name = input(\"Enter Your Name: \")\n",
    "    age = input(\"Enter Your Age: \")\n",
    "\n",
    "    try: \n",
    "        name = str(name)\n",
    "        age = int(age)\n",
    "        break\n",
    "    except ValueError:\n",
    "                print(\"Sorry, I didn't understand that. Try again!\")\n",
    "                #better try again... Return to the start of the loop\n",
    "                continue\n",
    "    \n",
    "#                 print(\"Invalid!\")\n",
    "\n",
    "double = age * 2\n",
    "print(name, 'you are half of', double)\n",
    "\n",
    "\n",
    "\n"
   ]
  },
  {
   "cell_type": "code",
   "execution_count": null,
   "metadata": {},
   "outputs": [],
   "source": []
  }
 ],
 "metadata": {
  "kernelspec": {
   "display_name": "Python 3",
   "language": "python",
   "name": "python3"
  },
  "language_info": {
   "codemirror_mode": {
    "name": "ipython",
    "version": 3
   },
   "file_extension": ".py",
   "mimetype": "text/x-python",
   "name": "python",
   "nbconvert_exporter": "python",
   "pygments_lexer": "ipython3",
   "version": "3.8.3"
  }
 },
 "nbformat": 4,
 "nbformat_minor": 4
}
